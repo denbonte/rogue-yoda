{
  "nbformat": 4,
  "nbformat_minor": 0,
  "metadata": {
    "colab": {
      "name": "map-nogp.ipynb",
      "provenance": [],
      "collapsed_sections": [],
      "authorship_tag": "ABX9TyMY+HfQMHSF4WaNfTysD66t",
      "include_colab_link": true
    },
    "kernelspec": {
      "name": "python3",
      "display_name": "Python 3"
    },
    "language_info": {
      "name": "python"
    }
  },
  "cells": [
    {
      "cell_type": "markdown",
      "metadata": {
        "id": "view-in-github",
        "colab_type": "text"
      },
      "source": [
        "<a href=\"https://colab.research.google.com/github/denbonte/rogue-yoda/blob/main/map_nogp.ipynb\" target=\"_parent\"><img src=\"https://colab.research.google.com/assets/colab-badge.svg\" alt=\"Open In Colab\"/></a>"
      ]
    },
    {
      "cell_type": "markdown",
      "metadata": {
        "id": "uw3ufvhOPYcH"
      },
      "source": [
        "# Setup and Init"
      ]
    },
    {
      "cell_type": "code",
      "metadata": {
        "id": "y8THAlLrLtKO"
      },
      "source": [
        "%%capture\n",
        "!pip install icecream"
      ],
      "execution_count": 102,
      "outputs": []
    },
    {
      "cell_type": "code",
      "metadata": {
        "id": "Jqmp0ytBJhmQ"
      },
      "source": [
        "import os\n",
        "import json\n",
        "\n",
        "import numpy as np\n",
        "import pandas as pd\n",
        "\n",
        "import difflib\n",
        "import requests\n",
        "import lxml.html as lh\n",
        "\n",
        "from icecream import ic"
      ],
      "execution_count": 146,
      "outputs": []
    },
    {
      "cell_type": "markdown",
      "metadata": {
        "id": "wIpygDvbPb4g"
      },
      "source": [
        "# Webpage Scraping"
      ]
    },
    {
      "cell_type": "code",
      "metadata": {
        "id": "Ic2K18oJJkqr"
      },
      "source": [
        "#url = 'https://nogreenpassdocenti.wordpress.com/s/'\n",
        "\n",
        "# create a handle, page, to handle the contents of the website\n",
        "page = requests.get(url)\n",
        "\n",
        "# store the contents of the website under doc\n",
        "doc = lh.fromstring(page.content)\n",
        "\n",
        "# parse data that are stored between <tr>..</tr> of HTML\n",
        "tr_elements = doc.xpath('//tr')"
      ],
      "execution_count": 104,
      "outputs": []
    },
    {
      "cell_type": "code",
      "metadata": {
        "colab": {
          "base_uri": "https://localhost:8080/"
        },
        "id": "PaFbU_gKJzlk",
        "outputId": "f73db809-2796-4de4-d8c9-44ea0f824735"
      },
      "source": [
        "# for each row, store each first element (header) and an empty list\n",
        "tr_elements = doc.xpath('//tr')\n",
        "table_dict = dict()\n",
        "idx = 0\n",
        "\n",
        "for t in tr_elements[0]:\n",
        "  idx += 1\n",
        "  key = t.text_content()\n",
        "  print('%d:\"%s\"'%(idx, key))\n",
        "  table_dict[key] = list()"
      ],
      "execution_count": 105,
      "outputs": [
        {
          "output_type": "stream",
          "name": "stdout",
          "text": [
            "1:\"Cognome\"\n",
            "2:\"Nome\"\n",
            "3:\"Qualifica e disciplina\"\n",
            "4:\"Ateneo\"\n"
          ]
        }
      ]
    },
    {
      "cell_type": "code",
      "metadata": {
        "id": "mEM6DrHkJ0Yz"
      },
      "source": [
        "keys_list = list(table_dict.keys())\n",
        "\n",
        "# since out first row is the header, data is stored on the second row onwards\n",
        "for jdx in range(1, len(tr_elements)):\n",
        "  # T is our j'th row\n",
        "  T = tr_elements[jdx]\n",
        "  \n",
        "  # if row is not of size 4, the //tr data is not from our table \n",
        "  #if len(T) != 10:\n",
        "  #  break\n",
        "  \n",
        "  idx = 0\n",
        "  \n",
        "  # iterate through each element of the row\n",
        "  for t, key in zip(T.iterchildren(), keys_list):\n",
        "    \n",
        "    data = t.text_content() \n",
        "    #print(key, data)\n",
        "\n",
        "    # convert everything to string\n",
        "    try:\n",
        "      data = str(data)\n",
        "    except:\n",
        "      pass\n",
        "\n",
        "    if data == \" \" or data == \"\":\n",
        "      data = \"NA\"\n",
        "    \n",
        "    table_dict[key].append(data)\n",
        "\n",
        "# hard fix to the problem with the table (missing Ateneo in the last row)\n",
        "table_dict[\"Ateneo\"].append(\"NA\")"
      ],
      "execution_count": 106,
      "outputs": []
    },
    {
      "cell_type": "code",
      "metadata": {
        "id": "8iClAlPrKPQI"
      },
      "source": [
        "df = pd.DataFrame(table_dict)"
      ],
      "execution_count": 107,
      "outputs": []
    },
    {
      "cell_type": "code",
      "metadata": {
        "colab": {
          "base_uri": "https://localhost:8080/",
          "height": 204
        },
        "id": "dQvE9L_qKU7v",
        "outputId": "85c0203a-122a-43b3-fe26-751388204a7f"
      },
      "source": [
        "df.head()"
      ],
      "execution_count": 108,
      "outputs": [
        {
          "output_type": "execute_result",
          "data": {
            "text/html": [
              "<div>\n",
              "<style scoped>\n",
              "    .dataframe tbody tr th:only-of-type {\n",
              "        vertical-align: middle;\n",
              "    }\n",
              "\n",
              "    .dataframe tbody tr th {\n",
              "        vertical-align: top;\n",
              "    }\n",
              "\n",
              "    .dataframe thead th {\n",
              "        text-align: right;\n",
              "    }\n",
              "</style>\n",
              "<table border=\"1\" class=\"dataframe\">\n",
              "  <thead>\n",
              "    <tr style=\"text-align: right;\">\n",
              "      <th></th>\n",
              "      <th>Cognome</th>\n",
              "      <th>Nome</th>\n",
              "      <th>Qualifica e disciplina</th>\n",
              "      <th>Ateneo</th>\n",
              "    </tr>\n",
              "  </thead>\n",
              "  <tbody>\n",
              "    <tr>\n",
              "      <th>0</th>\n",
              "      <td>Acquaviva</td>\n",
              "      <td>Graziella</td>\n",
              "      <td>Professore Associato</td>\n",
              "      <td>Università di Torino</td>\n",
              "    </tr>\n",
              "    <tr>\n",
              "      <th>1</th>\n",
              "      <td>Adami</td>\n",
              "      <td>Nicola</td>\n",
              "      <td>Ricercatore – Telecomunicazioni</td>\n",
              "      <td>Università degli Studi di Brescia</td>\n",
              "    </tr>\n",
              "    <tr>\n",
              "      <th>2</th>\n",
              "      <td>Afriat</td>\n",
              "      <td>Alexander</td>\n",
              "      <td>Professore di Filosofia</td>\n",
              "      <td>Université de Bretagne Occidentale</td>\n",
              "    </tr>\n",
              "    <tr>\n",
              "      <th>3</th>\n",
              "      <td>Almarai</td>\n",
              "      <td>Akeel</td>\n",
              "      <td>Professore Associato Lingua e letteratura araba</td>\n",
              "      <td>Università per Stranieri di Siena</td>\n",
              "    </tr>\n",
              "    <tr>\n",
              "      <th>4</th>\n",
              "      <td>Alpini</td>\n",
              "      <td>Stefano</td>\n",
              "      <td>Docente a contratto</td>\n",
              "      <td>Università di Pisa</td>\n",
              "    </tr>\n",
              "  </tbody>\n",
              "</table>\n",
              "</div>"
            ],
            "text/plain": [
              "     Cognome  ...                              Ateneo\n",
              "0  Acquaviva  ...                Università di Torino\n",
              "1      Adami  ...   Università degli Studi di Brescia\n",
              "2     Afriat  ...  Université de Bretagne Occidentale\n",
              "3    Almarai  ...   Università per Stranieri di Siena\n",
              "4     Alpini  ...                  Università di Pisa\n",
              "\n",
              "[5 rows x 4 columns]"
            ]
          },
          "metadata": {},
          "execution_count": 108
        }
      ]
    },
    {
      "cell_type": "markdown",
      "metadata": {
        "id": "uUSBmpJyPfaZ"
      },
      "source": [
        "# Data Preprocessing"
      ]
    },
    {
      "cell_type": "code",
      "metadata": {
        "colab": {
          "base_uri": "https://localhost:8080/"
        },
        "id": "5-I0feHwZAuu",
        "outputId": "2f91adc2-f33f-42f3-a337-73b1d7d6864c"
      },
      "source": [
        "!rm -r rogue-yoda\n",
        "!git clone https://github.com/denbonte/rogue-yoda.git"
      ],
      "execution_count": 169,
      "outputs": [
        {
          "output_type": "stream",
          "name": "stdout",
          "text": [
            "Cloning into 'rogue-yoda'...\n",
            "remote: Enumerating objects: 39, done.\u001b[K\n",
            "remote: Counting objects: 100% (39/39), done.\u001b[K\n",
            "remote: Compressing objects: 100% (33/33), done.\u001b[K\n",
            "remote: Total 39 (delta 14), reused 17 (delta 6), pack-reused 0\u001b[K\n",
            "Unpacking objects: 100% (39/39), done.\n"
          ]
        }
      ]
    },
    {
      "cell_type": "code",
      "metadata": {
        "id": "xGYLQ_b_Zc1P"
      },
      "source": [
        "mapping_fn = \"uni_mapping.json\"\n",
        "mapping_file_path = os.path.join(\"rogue-yoda\", mapping_fn)"
      ],
      "execution_count": 140,
      "outputs": []
    },
    {
      "cell_type": "code",
      "metadata": {
        "id": "biPC0En3Zsrs"
      },
      "source": [
        "with open(mapping_file_path, encoding='utf-8') as fp:\n",
        "  mapping_dict = json.load(fp)"
      ],
      "execution_count": 170,
      "outputs": []
    },
    {
      "cell_type": "code",
      "metadata": {
        "id": "HTv-EMl3bhqG"
      },
      "source": [
        "region_list = list()\n",
        "hardcoded_keys = list(mapping_dict.keys())\n",
        "\n",
        "for uni in df[\"Ateneo\"].values:\n",
        "\n",
        "  closest_match = difflib.get_close_matches(uni, hardcoded_keys)[0]\n",
        "  region_list.append(mapping_dict[closest_match])"
      ],
      "execution_count": 171,
      "outputs": []
    },
    {
      "cell_type": "code",
      "metadata": {
        "id": "JNUHTLv_VIAr"
      },
      "source": [
        "df[\"Regione\"] = region_list"
      ],
      "execution_count": 172,
      "outputs": []
    },
    {
      "cell_type": "code",
      "metadata": {
        "colab": {
          "base_uri": "https://localhost:8080/",
          "height": 204
        },
        "id": "pBC9AITPcCw9",
        "outputId": "e28e15f5-2141-449b-962e-6d2602b77d0e"
      },
      "source": [
        "df.head()"
      ],
      "execution_count": 173,
      "outputs": [
        {
          "output_type": "execute_result",
          "data": {
            "text/html": [
              "<div>\n",
              "<style scoped>\n",
              "    .dataframe tbody tr th:only-of-type {\n",
              "        vertical-align: middle;\n",
              "    }\n",
              "\n",
              "    .dataframe tbody tr th {\n",
              "        vertical-align: top;\n",
              "    }\n",
              "\n",
              "    .dataframe thead th {\n",
              "        text-align: right;\n",
              "    }\n",
              "</style>\n",
              "<table border=\"1\" class=\"dataframe\">\n",
              "  <thead>\n",
              "    <tr style=\"text-align: right;\">\n",
              "      <th></th>\n",
              "      <th>Cognome</th>\n",
              "      <th>Nome</th>\n",
              "      <th>Qualifica e disciplina</th>\n",
              "      <th>Ateneo</th>\n",
              "      <th>Regione</th>\n",
              "    </tr>\n",
              "  </thead>\n",
              "  <tbody>\n",
              "    <tr>\n",
              "      <th>0</th>\n",
              "      <td>Acquaviva</td>\n",
              "      <td>Graziella</td>\n",
              "      <td>Professore Associato</td>\n",
              "      <td>Università di Torino</td>\n",
              "      <td>Piemonte</td>\n",
              "    </tr>\n",
              "    <tr>\n",
              "      <th>1</th>\n",
              "      <td>Adami</td>\n",
              "      <td>Nicola</td>\n",
              "      <td>Ricercatore – Telecomunicazioni</td>\n",
              "      <td>Università degli Studi di Brescia</td>\n",
              "      <td>Lombardia</td>\n",
              "    </tr>\n",
              "    <tr>\n",
              "      <th>3</th>\n",
              "      <td>Almarai</td>\n",
              "      <td>Akeel</td>\n",
              "      <td>Professore Associato Lingua e letteratura araba</td>\n",
              "      <td>Università per Stranieri di Siena</td>\n",
              "      <td>Toscana</td>\n",
              "    </tr>\n",
              "    <tr>\n",
              "      <th>4</th>\n",
              "      <td>Alpini</td>\n",
              "      <td>Stefano</td>\n",
              "      <td>Docente a contratto</td>\n",
              "      <td>Università di Pisa</td>\n",
              "      <td>Toscana</td>\n",
              "    </tr>\n",
              "    <tr>\n",
              "      <th>5</th>\n",
              "      <td>Amato</td>\n",
              "      <td>Pierandrea</td>\n",
              "      <td>Professore di Estetica</td>\n",
              "      <td>Università di Messina</td>\n",
              "      <td>Sicilia</td>\n",
              "    </tr>\n",
              "  </tbody>\n",
              "</table>\n",
              "</div>"
            ],
            "text/plain": [
              "     Cognome        Nome  ...                             Ateneo    Regione\n",
              "0  Acquaviva   Graziella  ...               Università di Torino   Piemonte\n",
              "1      Adami      Nicola  ...  Università degli Studi di Brescia  Lombardia\n",
              "3    Almarai       Akeel  ...  Università per Stranieri di Siena    Toscana\n",
              "4     Alpini     Stefano  ...                 Università di Pisa    Toscana\n",
              "5      Amato  Pierandrea  ...              Università di Messina    Sicilia\n",
              "\n",
              "[5 rows x 5 columns]"
            ]
          },
          "metadata": {},
          "execution_count": 173
        }
      ]
    },
    {
      "cell_type": "code",
      "metadata": {
        "colab": {
          "base_uri": "https://localhost:8080/",
          "height": 204
        },
        "id": "FTXRZeqvcm_9",
        "outputId": "81962d53-e378-4d66-b80c-d5be0415780d"
      },
      "source": [
        "droplist = [\"NA\", \"Abroad\"]\n",
        "df = df.drop(df[(df[\"Regione\"] == \"Abroad\") | (df[\"Regione\"] == \"NA\")].index)\n",
        "\n",
        "df.head()"
      ],
      "execution_count": 174,
      "outputs": [
        {
          "output_type": "execute_result",
          "data": {
            "text/html": [
              "<div>\n",
              "<style scoped>\n",
              "    .dataframe tbody tr th:only-of-type {\n",
              "        vertical-align: middle;\n",
              "    }\n",
              "\n",
              "    .dataframe tbody tr th {\n",
              "        vertical-align: top;\n",
              "    }\n",
              "\n",
              "    .dataframe thead th {\n",
              "        text-align: right;\n",
              "    }\n",
              "</style>\n",
              "<table border=\"1\" class=\"dataframe\">\n",
              "  <thead>\n",
              "    <tr style=\"text-align: right;\">\n",
              "      <th></th>\n",
              "      <th>Cognome</th>\n",
              "      <th>Nome</th>\n",
              "      <th>Qualifica e disciplina</th>\n",
              "      <th>Ateneo</th>\n",
              "      <th>Regione</th>\n",
              "    </tr>\n",
              "  </thead>\n",
              "  <tbody>\n",
              "    <tr>\n",
              "      <th>0</th>\n",
              "      <td>Acquaviva</td>\n",
              "      <td>Graziella</td>\n",
              "      <td>Professore Associato</td>\n",
              "      <td>Università di Torino</td>\n",
              "      <td>Piemonte</td>\n",
              "    </tr>\n",
              "    <tr>\n",
              "      <th>1</th>\n",
              "      <td>Adami</td>\n",
              "      <td>Nicola</td>\n",
              "      <td>Ricercatore – Telecomunicazioni</td>\n",
              "      <td>Università degli Studi di Brescia</td>\n",
              "      <td>Lombardia</td>\n",
              "    </tr>\n",
              "    <tr>\n",
              "      <th>3</th>\n",
              "      <td>Almarai</td>\n",
              "      <td>Akeel</td>\n",
              "      <td>Professore Associato Lingua e letteratura araba</td>\n",
              "      <td>Università per Stranieri di Siena</td>\n",
              "      <td>Toscana</td>\n",
              "    </tr>\n",
              "    <tr>\n",
              "      <th>4</th>\n",
              "      <td>Alpini</td>\n",
              "      <td>Stefano</td>\n",
              "      <td>Docente a contratto</td>\n",
              "      <td>Università di Pisa</td>\n",
              "      <td>Toscana</td>\n",
              "    </tr>\n",
              "    <tr>\n",
              "      <th>5</th>\n",
              "      <td>Amato</td>\n",
              "      <td>Pierandrea</td>\n",
              "      <td>Professore di Estetica</td>\n",
              "      <td>Università di Messina</td>\n",
              "      <td>Sicilia</td>\n",
              "    </tr>\n",
              "  </tbody>\n",
              "</table>\n",
              "</div>"
            ],
            "text/plain": [
              "     Cognome        Nome  ...                             Ateneo    Regione\n",
              "0  Acquaviva   Graziella  ...               Università di Torino   Piemonte\n",
              "1      Adami      Nicola  ...  Università degli Studi di Brescia  Lombardia\n",
              "3    Almarai       Akeel  ...  Università per Stranieri di Siena    Toscana\n",
              "4     Alpini     Stefano  ...                 Università di Pisa    Toscana\n",
              "5      Amato  Pierandrea  ...              Università di Messina    Sicilia\n",
              "\n",
              "[5 rows x 5 columns]"
            ]
          },
          "metadata": {},
          "execution_count": 174
        }
      ]
    },
    {
      "cell_type": "code",
      "metadata": {
        "colab": {
          "base_uri": "https://localhost:8080/"
        },
        "id": "JBSuj5t_eAUV",
        "outputId": "986017c1-b9f4-415c-fadf-8952febd6138"
      },
      "source": [
        "tot_signatures = 0\n",
        "\n",
        "for region in np.unique(df[\"Regione\"]):\n",
        "  n_signatures = len(df[df[\"Regione\"] == region])\n",
        "  ic(region, n_signatures)\n",
        "\n",
        "  tot_signatures += n_signatures\n",
        "\n",
        "_ = ic(tot_signatures)"
      ],
      "execution_count": 175,
      "outputs": [
        {
          "output_type": "stream",
          "name": "stderr",
          "text": [
            "ic| region: 'Abruzzo', n_signatures: 6\n",
            "ic| region: 'Basilicata', n_signatures: 1\n",
            "ic| region: 'Calabria', n_signatures: 5\n",
            "ic| region: 'Campania', n_signatures: 28\n",
            "ic| region: 'Emilia Romagna', n_signatures: 26\n",
            "ic| region: 'Friuli Venezia Giulia', n_signatures: 11\n",
            "ic| region: 'Lazio', n_signatures: 33\n",
            "ic| region: 'Liguria', n_signatures: 14\n",
            "ic| region: 'Lombardia', n_signatures: 44\n",
            "ic| region: 'Marche', n_signatures: 12\n",
            "ic| region: 'Milano', n_signatures: 1\n",
            "ic| region: 'Molise', n_signatures: 2\n",
            "ic| region: 'Piemonte', n_signatures: 23\n",
            "ic| region: 'Puglia', n_signatures: 7\n",
            "ic| region: 'Sardegna', n_signatures: 8\n",
            "ic| region: 'Sicilia', n_signatures: 17\n",
            "ic| region: 'Toscana', n_signatures: 37\n",
            "ic| region: 'Umbria', n_signatures: 5\n",
            "ic| region: 'Veneto', n_signatures: 11\n",
            "ic| tot_signatures: 291\n"
          ]
        }
      ]
    },
    {
      "cell_type": "markdown",
      "metadata": {
        "id": "raVv7aiFeCIV"
      },
      "source": [
        "# Plotting"
      ]
    },
    {
      "cell_type": "code",
      "metadata": {
        "id": "VKeD7ki8dOnu"
      },
      "source": [
        ""
      ],
      "execution_count": null,
      "outputs": []
    }
  ]
}