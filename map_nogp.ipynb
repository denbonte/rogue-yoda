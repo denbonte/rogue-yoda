{
  "nbformat": 4,
  "nbformat_minor": 0,
  "metadata": {
    "colab": {
      "name": "map-nogp.ipynb",
      "provenance": [],
      "collapsed_sections": [],
      "toc_visible": true,
      "authorship_tag": "ABX9TyOL9D+P5gc6pz7A0V3Ykl6V",
      "include_colab_link": true
    },
    "kernelspec": {
      "name": "python3",
      "display_name": "Python 3"
    },
    "language_info": {
      "name": "python"
    }
  },
  "cells": [
    {
      "cell_type": "markdown",
      "metadata": {
        "id": "view-in-github",
        "colab_type": "text"
      },
      "source": [
        "<a href=\"https://colab.research.google.com/github/denbonte/rogue-yoda/blob/main/map_nogp.ipynb\" target=\"_parent\"><img src=\"https://colab.research.google.com/assets/colab-badge.svg\" alt=\"Open In Colab\"/></a>"
      ]
    },
    {
      "cell_type": "markdown",
      "metadata": {
        "id": "uw3ufvhOPYcH"
      },
      "source": [
        "# Setup and Init"
      ]
    },
    {
      "cell_type": "code",
      "metadata": {
        "id": "y8THAlLrLtKO"
      },
      "source": [
        "%%capture\n",
        "!pip install icecream"
      ],
      "execution_count": 102,
      "outputs": []
    },
    {
      "cell_type": "code",
      "metadata": {
        "id": "Jqmp0ytBJhmQ"
      },
      "source": [
        "import requests\n",
        "import lxml.html as lh\n",
        "import pandas as pd\n",
        "\n",
        "from icecream import ic"
      ],
      "execution_count": 103,
      "outputs": []
    },
    {
      "cell_type": "markdown",
      "metadata": {
        "id": "wIpygDvbPb4g"
      },
      "source": [
        "# Webpage Scraping"
      ]
    },
    {
      "cell_type": "code",
      "metadata": {
        "id": "Ic2K18oJJkqr"
      },
      "source": [
        "#url = 'https://nogreenpassdocenti.wordpress.com/s/'\n",
        "\n",
        "# create a handle, page, to handle the contents of the website\n",
        "page = requests.get(url)\n",
        "\n",
        "# store the contents of the website under doc\n",
        "doc = lh.fromstring(page.content)\n",
        "\n",
        "# parse data that are stored between <tr>..</tr> of HTML\n",
        "tr_elements = doc.xpath('//tr')"
      ],
      "execution_count": 104,
      "outputs": []
    },
    {
      "cell_type": "code",
      "metadata": {
        "colab": {
          "base_uri": "https://localhost:8080/"
        },
        "id": "PaFbU_gKJzlk",
        "outputId": "f73db809-2796-4de4-d8c9-44ea0f824735"
      },
      "source": [
        "# for each row, store each first element (header) and an empty list\n",
        "tr_elements = doc.xpath('//tr')\n",
        "table_dict = dict()\n",
        "idx = 0\n",
        "\n",
        "for t in tr_elements[0]:\n",
        "  idx += 1\n",
        "  key = t.text_content()\n",
        "  print('%d:\"%s\"'%(idx, key))\n",
        "  table_dict[key] = list()"
      ],
      "execution_count": 105,
      "outputs": [
        {
          "output_type": "stream",
          "name": "stdout",
          "text": [
            "1:\"Cognome\"\n",
            "2:\"Nome\"\n",
            "3:\"Qualifica e disciplina\"\n",
            "4:\"Ateneo\"\n"
          ]
        }
      ]
    },
    {
      "cell_type": "code",
      "metadata": {
        "id": "mEM6DrHkJ0Yz"
      },
      "source": [
        "keys_list = list(table_dict.keys())\n",
        "\n",
        "# since out first row is the header, data is stored on the second row onwards\n",
        "for jdx in range(1, len(tr_elements)):\n",
        "  # T is our j'th row\n",
        "  T = tr_elements[jdx]\n",
        "  \n",
        "  # if row is not of size 4, the //tr data is not from our table \n",
        "  #if len(T) != 10:\n",
        "  #  break\n",
        "  \n",
        "  idx = 0\n",
        "  \n",
        "  # iterate through each element of the row\n",
        "  for t, key in zip(T.iterchildren(), keys_list):\n",
        "    \n",
        "    data = t.text_content() \n",
        "    #print(key, data)\n",
        "\n",
        "    # convert everything to string\n",
        "    try:\n",
        "      data = str(data)\n",
        "    except:\n",
        "      pass\n",
        "\n",
        "    if data == \" \" or data == \"\":\n",
        "      data = \"NA\"\n",
        "    \n",
        "    table_dict[key].append(data)\n",
        "\n",
        "# hard fix to the problem with the table (missing Ateneo in the last row)\n",
        "table_dict[\"Ateneo\"].append(\"NA\")"
      ],
      "execution_count": 106,
      "outputs": []
    },
    {
      "cell_type": "code",
      "metadata": {
        "id": "8iClAlPrKPQI"
      },
      "source": [
        "df = pd.DataFrame(table_dict)"
      ],
      "execution_count": 107,
      "outputs": []
    },
    {
      "cell_type": "code",
      "metadata": {
        "colab": {
          "base_uri": "https://localhost:8080/",
          "height": 204
        },
        "id": "dQvE9L_qKU7v",
        "outputId": "85c0203a-122a-43b3-fe26-751388204a7f"
      },
      "source": [
        "df.head()"
      ],
      "execution_count": 108,
      "outputs": [
        {
          "output_type": "execute_result",
          "data": {
            "text/html": [
              "<div>\n",
              "<style scoped>\n",
              "    .dataframe tbody tr th:only-of-type {\n",
              "        vertical-align: middle;\n",
              "    }\n",
              "\n",
              "    .dataframe tbody tr th {\n",
              "        vertical-align: top;\n",
              "    }\n",
              "\n",
              "    .dataframe thead th {\n",
              "        text-align: right;\n",
              "    }\n",
              "</style>\n",
              "<table border=\"1\" class=\"dataframe\">\n",
              "  <thead>\n",
              "    <tr style=\"text-align: right;\">\n",
              "      <th></th>\n",
              "      <th>Cognome</th>\n",
              "      <th>Nome</th>\n",
              "      <th>Qualifica e disciplina</th>\n",
              "      <th>Ateneo</th>\n",
              "    </tr>\n",
              "  </thead>\n",
              "  <tbody>\n",
              "    <tr>\n",
              "      <th>0</th>\n",
              "      <td>Acquaviva</td>\n",
              "      <td>Graziella</td>\n",
              "      <td>Professore Associato</td>\n",
              "      <td>Università di Torino</td>\n",
              "    </tr>\n",
              "    <tr>\n",
              "      <th>1</th>\n",
              "      <td>Adami</td>\n",
              "      <td>Nicola</td>\n",
              "      <td>Ricercatore – Telecomunicazioni</td>\n",
              "      <td>Università degli Studi di Brescia</td>\n",
              "    </tr>\n",
              "    <tr>\n",
              "      <th>2</th>\n",
              "      <td>Afriat</td>\n",
              "      <td>Alexander</td>\n",
              "      <td>Professore di Filosofia</td>\n",
              "      <td>Université de Bretagne Occidentale</td>\n",
              "    </tr>\n",
              "    <tr>\n",
              "      <th>3</th>\n",
              "      <td>Almarai</td>\n",
              "      <td>Akeel</td>\n",
              "      <td>Professore Associato Lingua e letteratura araba</td>\n",
              "      <td>Università per Stranieri di Siena</td>\n",
              "    </tr>\n",
              "    <tr>\n",
              "      <th>4</th>\n",
              "      <td>Alpini</td>\n",
              "      <td>Stefano</td>\n",
              "      <td>Docente a contratto</td>\n",
              "      <td>Università di Pisa</td>\n",
              "    </tr>\n",
              "  </tbody>\n",
              "</table>\n",
              "</div>"
            ],
            "text/plain": [
              "     Cognome  ...                              Ateneo\n",
              "0  Acquaviva  ...                Università di Torino\n",
              "1      Adami  ...   Università degli Studi di Brescia\n",
              "2     Afriat  ...  Université de Bretagne Occidentale\n",
              "3    Almarai  ...   Università per Stranieri di Siena\n",
              "4     Alpini  ...                  Università di Pisa\n",
              "\n",
              "[5 rows x 4 columns]"
            ]
          },
          "metadata": {},
          "execution_count": 108
        }
      ]
    },
    {
      "cell_type": "markdown",
      "metadata": {
        "id": "uUSBmpJyPfaZ"
      },
      "source": [
        "# Data Preprocessing"
      ]
    },
    {
      "cell_type": "code",
      "metadata": {
        "id": "SToYtYuNKXf8"
      },
      "source": [
        ""
      ],
      "execution_count": 108,
      "outputs": []
    }
  ]
}